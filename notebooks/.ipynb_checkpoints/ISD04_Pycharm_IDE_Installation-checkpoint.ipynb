{
 "cells": [
  {
   "cell_type": "markdown",
   "metadata": {},
   "source": [
    "[Back to Overview](index.html)"
   ]
  },
  {
   "cell_type": "markdown",
   "metadata": {},
   "source": [
    "# ISD04 - Installing Pycharm\n",
    "\n",
    "Now that we've downloaded the scouting system code, it would be useful to have a tool for viewing and editing the code. The IRS uses the Pycharm integrated development environment (IDE) for programming in Python. An IDE is sort of a sophistcated word processor for computer programming. This document explains how to download and install the IDE, and how to create an IDE project so you can open and edit the code in the IDE.\n",
    "    \n",
    "## 1. Download and Install Pycharm IDE\n",
    "\n",
    "1. Go to https://www.jetbrains.com/pycharm/download and download the *Community Edition* of Pycharm for your operating system.\n",
    "\n",
    "2. Run the installer program and accept all default options.\n",
    "\n",
    "## 2. Creating a Pycharm Project for the Scouting System\n",
    "\n",
    "1. Run the Pycharm IDE.\n",
    "\n",
    "2. Click on *Create New Project*:\n",
    "\n",
    "    ![Create New Project in Pycharm](images\\ISD04\\pycharm_open.png)\n",
    "    \n",
    "3. Click the button with the elipses and navigate to the folder that contains the scouting system code. Click on *OK* and then *Create*:\n",
    "\n",
    "    ![Select Project Folder](images\\ISD04\\pycharm_create.png)\n",
    "    \n",
    "4. You will see a dialog box stating that the project folder is not empty and asking if you want to include the contents of the folder in the project. Click *Yes*.\n",
    "\n",
    "    ![Include Folder Contents](images\\ISD04\\folder_contents.png)\n",
    "    \n",
    "## 3. Viewing Scouting System Files\n",
    "\n",
    "By default, Pycharm displays code files and subfolders in the project window on the left, and file contents on the right. The top row of the project window represents the top folder of the project folder. Expand the top row by clicking the adjacent down arrow to view the contents. Navigate down to the *Server/Scouting/match.py* folder and open it to view the contents. The right side window now displays the Python code contained in this file:\n",
    "\n",
    "    ![View Folder](images\\ISD04\\pycharm_main.png)\n",
    "    \n",
    "## 4. Configuring Pycharm\n",
    "    \n",
    "1. You will most likely see a yellow warning banner at the top of the file stating that Pychar has not been configured with a Python interpreter. Pycharm must be able to run Python programs from within the IDE in order to support code testing and debugging. To run Python programs, Pycharm must be able to find Python installation. To configure Pycharm to find the Python interpreter, go to *File -> Settings -> Project Interpreter*. If the *Project Interpreter* section looks like the figure below, with no no interpreter listed in the *Python Interpreter* drop-down box and no Python packages are listed on the dialog, then we'll have to tell Pycharm how to find Python.\n",
    "\n",
    "    ![Project Settings](images\\ISD04\\pycharm_settings.png)\n",
    "\n",
    "2. Expand the *Project Interpreter* drop down box and select *Show All...* option.\n",
    "\n",
    "3. The *Project Interpreters* dialog will appear. Click on the green plus sign and select *Add Local...*.\n",
    "\n",
    "    ![Configure Interpreter](images\\ISD04\\pycharm_interpreter.png)\n",
    "    \n",
    "4. The *Add local Python Interpreter* dialog will appear. Select *System Interpreter* and verify that the path *C:\\Users\\{account name}\\Anaconda3\\python3* is in the *Interpreter* box near the top of the dialog. If not, select the elipses (\"...\") button and select the *Anaconda3* folder that contains the *python3.exe* file.\n",
    "\n",
    "    ![Add Interpreter](images\\ISD04\\pycharm_interpreter2.png)\n",
    "    \n",
    "5. Click *OK* to save changes until you get back to the main settings dialog. You should see *Python3* in the *Project Interpreter* window and a list of Python packsges:\n",
    "\n",
    "    ![Configured Interpreter](images\\ISD04\\pycharm_interpreter3.png)\n",
    "    \n",
    "6. Hit *OK* one more time to save changes. You should no longer see the yellow project interpreter warning banner."
   ]
  },
  {
   "cell_type": "markdown",
   "metadata": {},
   "source": [
    "**Further Reading:**\n",
    "Pycharm Documentation: https://www.jetbrains.com/help/pycharm/meet-pycharm.html"
   ]
  },
  {
   "cell_type": "markdown",
   "metadata": {},
   "source": [
    "## Version Info\n",
    "* **Last Revised:** 22 Dec 2017\n",
    "* **Revised by:** Stacy I.\n",
    "\n",
    "[Back to Overview](index.html)"
   ]
  }
 ],
 "metadata": {
  "kernelspec": {
   "display_name": "Python 3",
   "language": "python",
   "name": "python3"
  },
  "language_info": {
   "codemirror_mode": {
    "name": "ipython",
    "version": 3
   },
   "file_extension": ".py",
   "mimetype": "text/x-python",
   "name": "python",
   "nbconvert_exporter": "python",
   "pygments_lexer": "ipython3",
   "version": "3.6.3"
  }
 },
 "nbformat": 4,
 "nbformat_minor": 2
}

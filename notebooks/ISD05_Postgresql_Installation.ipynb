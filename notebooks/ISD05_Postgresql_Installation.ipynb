{
 "cells": [
  {
   "cell_type": "markdown",
   "metadata": {},
   "source": [
    "[Back to Overview](index.html)"
   ]
  },
  {
   "cell_type": "markdown",
   "metadata": {},
   "source": [
    "# ISD05 - PostgreSQL\n",
    "\n",
    "The PostgreSQL database server is a crucial part of the IRS scouting system. PostgreSQL is a database server that stores the data entered into the scouting system and subsequently retrives data for display and analysis.\n",
    "\n",
    "## 1. Installation\n",
    "1. Go to https://www.postgresql.org/download/windows/ and download the Windows installer for PostgreSQL.\n",
    "\n",
    "2. Run the installer. When asked for a password, enter `irs1318`. Otherwise select all default options.\n",
    "\n",
    "## 2. Configure Database Service\n",
    "\n",
    "By default, Postgresql will run in the background all the time. You probably don't want a database server running all of the time on your computer. To change the default behavior:\n",
    "\n",
    "1. Verify the location of your Postgresql data directory. It’s probably located in `C:\\Program Files\\PostgreSQL\\10\\data`.\n",
    "\n",
    "2. Refer to section ISD02 and add an environment variable called PGDATA (if it doesn't already exist). The value of the environment variable will be the location of the PostgreSQL data directory (`C:\\Program Files\\PostgreSQL\\10\\data`)\n",
    "\n",
    "    ![Edit PGDATA Variable](images/ISD05/env_pgdata.png)\n",
    "    \n",
    "3. While you have the environment variable dialogs open, add the location of the Postgresql *bin* folder to the `Path` variable for your account. It's probably at `C:\\Program Files\\PostgreSQL\\10\\bin`.\n",
    "    \n",
    "4. Type \"Services\" into the task bar search box and select the *Services* desktop app. \n",
    "    \n",
    "5. Find and double-click on the *Postgresql-x64-10* service.\n",
    "\n",
    "        ![Windows Services](images/ISD05/pg_service.png)\n",
    "\n",
    "6. Change the value in the *Startup type:* dropdown box to *Manual*. Click *OK*. \n",
    "\n",
    "    ![Manual Service](images/ISD05/pg_manual_service.png)\n",
    "    \n",
    "4. Now open a command prompt and see if the database server is running by typing `pg_ctl status`. You should see this:\n",
    "\n",
    "    ![Database Server Status](images/ISD05/pg_ctl_status.png)\n",
    "\n",
    "5. Type `pg_ctl start` to start the server. (You can stop the server by typing `pg_ctl stop`, but leave the server running if you are continuing to seciton 3."
   ]
  },
  {
   "cell_type": "markdown",
   "metadata": {},
   "source": [
    "## 3. Create a Role and a Database\n",
    "\n",
    "1. If the database server is not already running, open an command window and type `pg_ctl start`.\n",
    "\n",
    "2. Open the pgAdmin4 program on the start menu.\n",
    "\n",
    "    ![pgAdmin 4](images\\ISD05\\pgadmin.png)\n",
    "    \n",
    "3. Expand the items in the browser window on the left (*Servers -> PostgreSQL 10 -> Login/Group Roles*). Right click on *Login/Group Roles* and select *Create -> Login/Group Role...*.\n",
    "\n",
    "    ![Create Database Role](images\\ISD05\\pg_create_role.png)\n",
    "\n",
    "4. The *Create Login/Group Role* dialog will appear. On the general tab, name the role \"irs1318\". On the *Definition* tab, assign the password \"irs1318\". On the *Priviliges* tab, set *Can Login* and *Create databases* to *Yes*.\n",
    "\n",
    "    ![Assign Permissions](images\\ISD05\\pg_permissions.png)\n",
    "    \n",
    "5. Close pgAdmin and open a command prompt. Enter the following command to create a new database:\n",
    "\n",
    "    ```\n",
    "    createdb -U irs1318 scouting\n",
    "    ```\n",
    "    \n",
    "    When PostgreSQL prompts you for a password, enter *irs1318*. This command tells PostgreSQL to create a new database named *scouting* and to assign the scouting database to the irs1318 role."
   ]
  },
  {
   "cell_type": "markdown",
   "metadata": {},
   "source": [
    "## 4. Upload Competition Data to PostgreSQL Server\n",
    "\n",
    "1. Open a command window and navigate to the *...\\irsScouting2017\\Server\\web\\data* folder, which should be within your scouting project folder.\n",
    "\n",
    "2. Verify that the folder contains the file *turing_2017_0422_1009*. This is a database backup file from the 2017 FIRST World Championships in Houston Texas, Turing Division.\n",
    "\n",
    "3. Enter the following command to upload this data to the database:\n",
    "\n",
    "    ```\n",
    "    psql scouting < turing_2017_0422_1009 irs1318\n",
    "    ```\n",
    "    \n",
    "    Enter `irs1318` when prompted for a password.\n",
    "    \n",
    "4. Congratulations. Your computer is now running the IRS scouting system. In the next document, we will use Python and Structured Query Language (SQL) to retreive and display FIRST Robotics Competition (FRC) data."
   ]
  },
  {
   "cell_type": "markdown",
   "metadata": {},
   "source": [
    "**Further Reading:**\n",
    "PostgreSQL Documentation: https://www.postgresql.org/docs/10/static/index.html"
   ]
  },
  {
   "cell_type": "markdown",
   "metadata": {},
   "source": [
    "## 5. Using Microsoft Access to View Contents of Scouting Database\n",
    "\n",
    "1. Download and install the PostgreSQL ODBC driver from https://www.postgresql.org/ftp/odbc/versions/msi/. ODBC, which stands for open database connectivity, is a standard protocol for programs to commmunicate with database servers. Microsoft Access will use the ODBC driver to communicate with the PostgreSQL database server.\n",
    "\n",
    "  * Check the version dates and download the most recent version of the driver, most likely located at the bottom of the page.\n",
    "  * PostgreSQL gives you the choice of downloading either the 32 or 64 bit versions of the ODBC driver.\n",
    "    * Only download the 64-bit version (file name ends in *x64*) if you installed the 64-bit version of Microsoft Access. Otherwise download and install the 32-bit version (file name ends in *x86*). Even though you probably have a 64-bit computer, you probably have the 32-bit version of Access because that's what Microsoft installs by default.\n",
    "    * You can use the Microsoft Office installation location to determine whether you have the 32 or 64-bit version. If Microsoft Office is installed in *C:\\Program Files (x86)*, you have the 32-bit version. If it's installed in *C:\\Program Files*, then you have the 64-bit version.\n",
    "    \n",
    "2. Open Microsoft Access and create a new empty database.\n",
    "\n",
    "3. Select *External Data -> New Data Scource -> From Other Sources -> ODBC Database* from the ribbon bar.\n",
    "\n",
    "4. Select *Link to the datasource by creating a linked table* and click *OK*.\n",
    "\n",
    "5. Select the *Machine Data Source* tab and click *New*.\n",
    "\n",
    "6. Leave *User Data Source* checked and click *Next*.\n",
    "\n",
    "7. Select the *PostgreSQL Unicode* database driver from the list and click *Next*. Then click *Finish*.\n",
    "\n",
    "8. Enter the database connection information into the next dialog.\n",
    "\n",
    "  * Database: scouting\n",
    "  * Server: localhost\n",
    "  * User Name: irs1318\n",
    "  * Description: IRS Scouting Database\n",
    "  * Port: 5432\n",
    "  * Password: irs1318\n",
    "  \n",
    "9. Click *Test*. You should see a dialog that says *Connection Successful*. If you get an error, double check your settings and make sure the PostgreSQL database server is running. Once the test is successful, click *Save*.\n",
    "\n",
    "10. Clock *OK* on the top level dialog. You should now see a list of all tables in the scouting database. Click *Select All* and *OK*.\n",
    "\n",
    "11. Next, Access will display a list of all fields in the *measures* table and will ask to select up to 10 fields that uniquely idenitfy each row (this is happening because the *measures* table uses a multi-field primary key -- all other tables in the database use a single *id* column for the primary key). Select *date _id, event_id, level_id, match_id, alliance_id, team_id, actor_id, task_id, phase_id, and reason_id* and click *OK*.\n",
    "\n",
    "12. Now you should see a list of tables in the scouting database. Double click on any tables to see it's contents.\n",
    "\n",
    "13. Save the database to a new file (*File -> *Save As*) before closing it, to ensure the links to the PostgreSQL tables are saved.\n",
    "\n",
    "14. Other useful things you can do in Access: \n",
    "\n",
    "  * View database diagrams (relationships, table structure).\n",
    "  * Change a datapoint for troubleshooting. Be careful -- make a backup of the database before you do this!"
   ]
  },
  {
   "cell_type": "markdown",
   "metadata": {},
   "source": [
    "## Version Info\n",
    "* **Last Revised:** 30 Dec 2017\n",
    "* **Revised by:** Stacy I.\n",
    "\n",
    "[Back to Overview](index.html)"
   ]
  }
 ],
 "metadata": {
  "kernelspec": {
   "display_name": "Python 3",
   "language": "python",
   "name": "python3"
  },
  "language_info": {
   "codemirror_mode": {
    "name": "ipython",
    "version": 3
   },
   "file_extension": ".py",
   "mimetype": "text/x-python",
   "name": "python",
   "nbconvert_exporter": "python",
   "pygments_lexer": "ipython3",
   "version": "3.6.3"
  }
 },
 "nbformat": 4,
 "nbformat_minor": 2
}

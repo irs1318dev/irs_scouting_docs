{
 "cells": [
  {
   "cell_type": "markdown",
   "metadata": {},
   "source": [
    "# ISD03 - Version Control System: Git and Github\n",
    "\n",
    "## 1. Git\n",
    "\n",
    "### 1.A Overview\n",
    "\n",
    "Software developers use version control systems to save versions of their software projects and share and synchronize their code with others. The IRS uses one of the most popular version controls systems, *Git*, which was originally created by Linus Torvalds, the creator of Linux.\n",
    "\n",
    "Github is an online repository for computer code that is designed to work closely with Git. All of the IRS's computer code is stored on Git. Here are some typical tasks that use Git or Github:\n",
    "* Download the scouting system code from Github.\n",
    "* Create a separate version of the scouting system to make changes without affecting other programmers' work.\n",
    "* Upload their changes to Github so they can be reviewed by other members of the team.\n",
    "* Review changes submitted by other programmers, merge the changes into a single version, and share that version with the rest of the team.\n",
    "\n",
    "### 1.B Download and Installation\n",
    "\n",
    "1. Go to https://git-scm.com/downloads and click the download link for your operating system near the top of the page. (Do not download the GUI client -- we will use the command line version of git.)\n",
    "\n",
    "    ![Git Download Page](images\\ISD03\\git_download.png)\n",
    "\n",
    "2. Run the git installer. When asked to *Choose the default editor used by Git,* ensure *User the Nano Editor by Default* is checked. On the next screen, ensure *Use Git from Windows Command Prompt* is checked. Otherwise, accept all default options.\n",
    "\n",
    "3. Open a command window and type `path` to check the contents of the *path* environment variable. You should find *C:\\Program Files\\Git\\cmd* in the output. If not, add it to the *path* variable using the process described in ISD02.\n",
    "\n",
    "4. Verify that git was installed by entering `git --version` at the command prompt.\n",
    "\n",
    "    ![Verify Git Installation](images/ISD03/git_path.png)\n",
    "\n",
    "### 1.C Configuration\n",
    "\n",
    "Git needs to know who you are so that changes you make will be attributed to you. Enter the following commands at the command prompt (obviously you need to replace \"John Doe\" and johndoe@example.com with your name and email address):\n",
    "```\n",
    "git config --global user.name \"John Doe\"\n",
    "git config --global user.email johndoe@example.com\n",
    "```\n",
    "\n",
    "Check your settings with `git config --list`.\n",
    "\n",
    "**Further Reading:**\n",
    "https://git-scm.com/book/en/v2 -- I strongly recommend reading chapters one and two of the Git Book."
   ]
  },
  {
   "cell_type": "markdown",
   "metadata": {},
   "source": [
    "## 2. Github\n",
    "\n",
    "1. The IRS maintains all of it's on Github, which is an online repository for software progrmming projects. Go to https://github.com/irs1318dev to see the IRS projects that are stored on Github. Follow the remainder of this procedure to download the scouting system code to your computer.\n",
    "\n",
    "2. On the Github website, click the signup link in the upper right and follow the instructions on screen to create your own Github account. Choose the *Free Plan* option.\n",
    "\n",
    "3. Create an empty folder on your local computer to store the the scouting system code. This document will assume you created the folder at *C:\\Users\\{account_name}\\OneDrive\\Projects\\scouting2017*.\n",
    "\n",
    "4. Follow the guideance in ISD02 to create a shortcut to a command window that opens in the folder you just created in step 3.\n",
    "\n",
    "5. Go to https://github.com/irs1318dev/irsScouting2017 to see the scouting system code:\n",
    "\n",
    "    ![irsScouting2017 Repository on Github](images/ISD03/github_irsScouting.png)\n",
    "    \n",
    "    Github is displaying the files and folders within the top folder of the code repository. You can click on any folder or file to view the contents right on Github.\n",
    "    \n",
    "6. We can't do much with the code if we leave it on Github. Click the green *Clone or download* button and then click the clpboard icon to copy the URL that we'll use to download the repository to our local computer:\n",
    "\n",
    "    ![Clone Repository from Github](images/ISD03/github_clone.png)\n",
    "    \n",
    "    At the command prompt, type `git clone` and then paste the URL from github to the end of the command and hit *Enter*:\n",
    "    \n",
    "    ![Git Clone Command](images/ISD03/git_clone.png)\n",
    "    \n",
    "    The scouting system code is now downloaded to your local folder.\n",
    "    \n",
    "**Further Reading:**\n",
    "https://help.github.com/"
   ]
  },
  {
   "cell_type": "markdown",
   "metadata": {},
   "source": [
    "## Version Info\n",
    "* **Last Revised:** 22 Dec 2017\n",
    "* **Revised by:** Stacy I."
   ]
  }
 ],
 "metadata": {
  "kernelspec": {
   "display_name": "Python 3",
   "language": "python",
   "name": "python3"
  },
  "language_info": {
   "codemirror_mode": {
    "name": "ipython",
    "version": 3
   },
   "file_extension": ".py",
   "mimetype": "text/x-python",
   "name": "python",
   "nbconvert_exporter": "python",
   "pygments_lexer": "ipython3",
   "version": "3.6.3"
  }
 },
 "nbformat": 4,
 "nbformat_minor": 2
}

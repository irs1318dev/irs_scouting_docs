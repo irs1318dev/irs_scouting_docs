{
 "cells": [
  {
   "cell_type": "markdown",
   "metadata": {},
   "source": [
    "[Back to Overview](index.html)"
   ]
  },
  {
   "cell_type": "markdown",
   "metadata": {},
   "source": [
    "# Getting Started with the Python Tutorial"
   ]
  },
  {
   "cell_type": "markdown",
   "metadata": {},
   "source": [
    "## 1. The Python Tutorial\n",
    "The Python Software Foundation provides an excellent tutorial and other Python documentation at https://docs.python.org/3/. Bookmark this page -- you will be referring to it frequently.\n",
    "\n",
    "We'll start in the tutorial section:\n",
    "  ![Python Documentation](images/ISD07/python_docs.png)\n",
    "  \n",
    "Feel free to read chapters 1 and 2 of the tutorial, but for now we'll go right to chapter 3:\n",
    "\n",
    "  ![Python Tutorial Table of Contents](images/ISD07/python_toc.png)"
   ]
  },
  {
   "cell_type": "markdown",
   "metadata": {},
   "source": [
    "## 2. Create a New Jupyter Notebook\n",
    "\n",
    "Learning by doing is more effective than learning by reading. Therefore, we'll experiment with the concepts in the *Python Tutorial* by running Python code in a Juptyer notebook.\n",
    "\n",
    "A. Create a new folder to store your notebooks. Run `jupyter notebook` at the command line from this folder.\n",
    "\n",
    "B. In the jupyter browswer window, create a new Python notebook by clicking the *New* button in the upper right portion of the window and selecting *Python 3*.\n",
    "\n",
    "  ![Jupyter Notebooks](images/ISD07/jupyter_new.png)\n"
   ]
  },
  {
   "cell_type": "markdown",
   "metadata": {},
   "source": [
    "## 3. Running Python Code in a Notebook\n",
    "\n",
    "Now that you've created a notebook, you should see this:\n",
    "\n",
    "  ![Python Notebook Cell](images/ISD07/notebook_cell.png)\n",
    "  \n",
    "A. Enter the following code into the empty cell (the grey box to the right of *In [ ]:*) and then press SHIFT + ENTER.|\n",
    "\n",
    "  ```\n",
    "  var = 659 * 2\n",
    "  var\n",
    "  ```\n",
    "  \n",
    "  Jupyter notebook cells will execute whatever Python code you type into them when you press SHFIT + ENTER. Furthermore, the notebook will print the value of the last line (i.e., Python statement) in the cell. For the code above, we calculated the product of 659 and 2 and assigned the product to variable called `var`. Finally, we forced Jupyter to display the value stored in `var` by typing `var` on the final line of the cell. \n",
    "  \n",
    "B. You can name your notebook by clicking the text \"Untitled\" near the top of the page and entering a new name. Use the *Save* option from the file menu or the *Save* icon to save your work.\n",
    "\n",
    "C. When you are finished working in the notebook, be sure to select *Close and Halt* from the *File* menu. This shuts down the Python kernal that is running the notebook. If you close the window without selecting *Close and Halt*, the Python kernal will continue to run."
   ]
  },
  {
   "cell_type": "markdown",
   "metadata": {},
   "source": [
    "## 4. Working Through the Tutorial -- Part 1\n",
    "\n",
    "Now go back to chapter 3 of the *Python Tutorial* and work through the examples. Use the Jupyter notebook to experiment with the Python code from the tutorial. Work through the following chapters at a minimum. Each section lists exercises you should be able to complete after working through the chapter.\n",
    "\n",
    "### Chapter 3: An Informal Introduction to Python\n",
    "\n",
    "A. Calculate and display the density of a 5.3 x 12.7 x 2.6 foot block that weighs 1,318 pounds, in both lb/ft3 and kg/m3.  Be sure to user variables.\n",
    "\n",
    "B. Store the first names of at least three of your fellow team members in a Python list. Using the list, print out the names on a single line, separated by commas.\n",
    "\n",
    "### Chapter 4: More Control Flow Tools\n",
    "\n",
    "A. Write a function that accepts distance and gallons arguments and returns miles per gallon.\n",
    "\n",
    "B. Write a function that accepts a string as an argument and determines whether the string has an even or odd number of letters.\n",
    "\n",
    "C. Write a function that accepts an number and returns a list of all positive integers that are smaller than or equal to the number, but are divisible by 13. If the number passed as an argument is less than 13, the function should return the string \"ERROR\".\n",
    "\n",
    "### Chapter 5: Data Structures\n",
    "\n",
    "A. Use a list comprehension to generate a list of the first 100 integers divisible by 13. The first element of the list should be 13, not 0.\n",
    "\n",
    "B. Use the list created in section A to create a dictionary of the form `{\"val_1\": 13, \"val_2: 26, ... \"val_100\": 1287}`. The dictionary should have 100 elements."
   ]
  },
  {
   "cell_type": "markdown",
   "metadata": {},
   "source": [
    "## 5. Working Through the Tutorial -- Part 2\n",
    "\n",
    "The following tutorial chapters are essential to understanding the scouting system Python code, but the Pycharm IDE is better for experimenting with the concepts. Python IDE essentials will be covered in a subsequent ISD.\n",
    "\n",
    "* Chapter 6: Modules\n",
    "* Chapter 7: Input and Output\n",
    "* Chapter 8: Errors and Exceptions\n",
    "* Chapter 9: Classes"
   ]
  },
  {
   "cell_type": "markdown",
   "metadata": {},
   "source": [
    "## 6. Python Library Documentation\n",
    "\n",
    "In addition to the *Python Tutorial*, the *Python Library Reference* is also essential to developing proficiency with Python and workign with the IRS scouting system. You can navigate to the *Library Reference* from the main Pyton documenation page at https://docs.python.org/3/ or go directy to the page via https://docs.python.org/3/library/index.html.\n",
    "\n",
    "Focus on these parts of the Libary Documentation first:\n",
    "\n",
    "* **Section 2: Built-in Functions**\n",
    "  - I still refer to this section frequently when I'm working in Python.\n",
    "* **Section 3: Built-in Types**\n",
    "  - Another section of the documenation that I use frequently.\n",
    "* **Section 6.1: Regular Expressions**\n",
    "  - This is an advanced topic. However regular expressions are used in many programming languages for text processing. They enable sophisticated processing of text with just a few lines of code. Go to http://www.regular-expressions.info/tutorial.html for a very thorough tutorial."
   ]
  },
  {
   "cell_type": "markdown",
   "metadata": {},
   "source": [
    "## 7. Coding Style\n",
    "\n",
    "It's important to use a consistent style of coding. The IRS follows the *Google Python Style Guide*, available at https://google.github.io/styleguide/pyguide.html. The PEP 8 and PEP 257 doucments are helpful as well.\n",
    "\n",
    "### A. Google Python Style Guide\n",
    "The IRS scouting system should conform to the the *Google Python Style Guide*. Read through this document and focus on the following sections:\n",
    "* **Modules and Packages:** Always import the entire module using the full package name. Assign an alias for frequently accessed objects with long package or module names. Use the same alias for frequently access modules throughout the scouting system. For example:\n",
    "  ```\n",
    "  import server.model.connection as smc\n",
    "  # Every Python module that imports server.model.connection will use the 'smc' alias.\n",
    "  # ...\n",
    "  conn = smc.engine.connect()\n",
    "  ```\n",
    "* **Line Length:** Continue lines of code onto subsequent lines so they do not extend past 80 characters. Per PEP 8 (see below), blocks of text in comments should not extend past 72 characters.\n",
    "* **Parenthesis**\n",
    "* **Indentation**\n",
    "* **Blank Lines**\n",
    "* **White Space**\n",
    "* **Comments**\n",
    "* **Classes**\n",
    "* **Strings:** The IRS scouting system uses double quotation marks(\") to deliniate strings. The single quotation mark (') can be used when the string needs to include double quotation marks.\n",
    "* **Imports Formatting**\n",
    "* **Naming**\n",
    "\n",
    "### B. PEP 8, Style Guide for Python Code\n",
    "PEP stands for *Python Enhancement Proposal*. There are hundreds of PEP documents that explain features of Python on the python.org website. PEP 8 is available at https://www.python.org/dev/peps/pep-0008/. For the most part, PEP8 is consistent with the *Google Python Style Guide*. PEP8 provides is less terse then the Google document and provides more thorough explanations of the style reccommendations.\n",
    "\n",
    "### C. PEP 257, Docstring Conventions\n",
    "C. Finally, PEP 257, available at https://www.python.org/dev/peps/pep-0257/, provides guideance on formatting docstrings. Python uses docstrings to embed documentation into the Python code (see https://docs.python.org/3/tutorial/controlflow.html#documentation-strings). Docstrings are available to Python programs and from the Python command prompt. The scouting system uses docstrings extensively."
   ]
  },
  {
   "cell_type": "markdown",
   "metadata": {},
   "source": [
    "## Version Info\n",
    "* **Last Revised:** 31 Dec 2017\n",
    "* **Revised by:** Stacy I.\n",
    "\n",
    "[Back to Overview](index.html)"
   ]
  }
 ],
 "metadata": {
  "kernelspec": {
   "display_name": "Python 3",
   "language": "python",
   "name": "python3"
  },
  "language_info": {
   "codemirror_mode": {
    "name": "ipython",
    "version": 3
   },
   "file_extension": ".py",
   "mimetype": "text/x-python",
   "name": "python",
   "nbconvert_exporter": "python",
   "pygments_lexer": "ipython3",
   "version": "3.6.3"
  }
 },
 "nbformat": 4,
 "nbformat_minor": 2
}

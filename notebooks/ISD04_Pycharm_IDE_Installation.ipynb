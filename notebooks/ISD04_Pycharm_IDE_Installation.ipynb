{
 "cells": [
  {
   "cell_type": "markdown",
   "metadata": {},
   "source": [
    "# ISD04 - Installing Pycharm\n",
    "\n",
    "Now that we've downloaded the scouting system code, it would be useful to have a tool for viewing and editing the code. The IRS uses the Pycharm integrated development environment (IDE) for programming in Python. An IDE is sort of a sophistcated word processor for computer programming. This document explains how to download and install the IDE, and how to create an IDE project so you can open and edit the code in the IDE.\n",
    "    \n",
    "## 1. Download and Install Pycharm IDE\n",
    "\n",
    "1. Go to https://www.jetbrains.com/pycharm/download and download the *Community Edition* of Pycharm for your operating system.\n",
    "\n",
    "2. Run the installer program and accept all default options.\n",
    "\n",
    "## 2. Creating a Pycharm Project for the Scouting System\n",
    "\n",
    "1. Run the Pycharm IDE.\n",
    "\n",
    "2. Click on *Create New Project*:\n",
    "\n",
    "    ![Create New Project in Pycharm](images\\ISD04\\pycharm_open.png)\n",
    "    \n",
    "3. Click the button with the elipses and navigate to the folder that contains the scouting system code. Click on *OK* and then *Create*:\n",
    "\n",
    "    ![Select Project Folder](images\\ISD04\\pycharm_create.png)\n",
    "    \n",
    "4. You will see a dialog box stating that the project folder is not empty and asking if you want to include the contents of the folder in the project. Click *Yes*.\n",
    "\n",
    "    ![Include Folder Contents](images\\ISD04\\folder_contents.png)\n",
    "    \n",
    "## 3. Viewing Scouting System Files\n",
    "\n",
    "1. By default, Pycharm displays code files and subfolders in the project window on the left, and file contents on the right. The top row of the project window represents the top folder of the project folder. Expand the top row by clicking the adjacent down arrow to view the contents. Navigate down to the *Server/Scouting/match.py* folder and open it to view the contents. The right side window now displays the Python code contained in this file:\n",
    "\n",
    "    ![View Folder](images\\ISD04\\pycharm_main.png)\n",
    "    \n",
    "2. Note the warning in the yellow banner stating no Pthon interpreter has been configured.\n",
    "\n"
   ]
  },
  {
   "cell_type": "markdown",
   "metadata": {},
   "source": [
    "**Further Reading:**\n",
    "Pycharm Documentation: https://www.jetbrains.com/help/pycharm/meet-pycharm.html"
   ]
  },
  {
   "cell_type": "markdown",
   "metadata": {},
   "source": [
    "## Version Info\n",
    "* **Last Revised:** 22 Dec 2017\n",
    "* **Revised by:** Stacy I."
   ]
  }
 ],
 "metadata": {
  "kernelspec": {
   "display_name": "Python 3",
   "language": "python",
   "name": "python3"
  },
  "language_info": {
   "codemirror_mode": {
    "name": "ipython",
    "version": 3
   },
   "file_extension": ".py",
   "mimetype": "text/x-python",
   "name": "python",
   "nbconvert_exporter": "python",
   "pygments_lexer": "ipython3",
   "version": "3.6.3"
  }
 },
 "nbformat": 4,
 "nbformat_minor": 2
}

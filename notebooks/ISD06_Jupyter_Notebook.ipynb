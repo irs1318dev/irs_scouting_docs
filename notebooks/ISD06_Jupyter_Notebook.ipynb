{
 "cells": [
  {
   "cell_type": "markdown",
   "metadata": {},
   "source": [
    "[Back to Overview](index.html)"
   ]
  },
  {
   "cell_type": "markdown",
   "metadata": {},
   "source": [
    "# ISD06 - Testing the Scouting System"
   ]
  },
  {
   "cell_type": "markdown",
   "metadata": {},
   "source": [
    "## 1. Test Database Access with a Jupyter Notebook\n",
    "\n",
    "Finally, we'll use a Jupyter notebook to test the scouting system. Jupyter notebooks allow you to run Python code and display output within a web browser.\n",
    "\n",
    "1. Open a command window with the location set to your scouting system project folder (should have subfolders named \"jupyter\" and \"Server\", among others).\n",
    "\n",
    "2. Enter the command `Jupyter Notebook`. Your web broswer should open to a page showing the contents of the scouting system project folder:\n",
    "\n",
    "  ![Jupyter Notebook Home Page](images\\ISD06\\jupyter.png)\n",
    "  \n",
    "3. Select the *jupyter* subfolder.\n",
    "\n",
    "4. Select the *System_Test* file:\n",
    "\n",
    "  ![Jupyter Subfolder](images\\ISD06\\jupyter_subfolder.png)\n",
    "\n",
    "5. Select *Run All* form the *Cell* menu.\n",
    "\n",
    "  ![System Test Notebook](images\\ISD06\\system_test_notebook.png)\n",
    "  \n",
    "6. Scroll to the bottom of the notebook. If everything was installed and configured correctly, you'll see a bar chart showing the average number of gears placed per match for every team in the Turing Division at the 2017 FIRST World Championships in Houston, TX.\n",
    "\n",
    "**Further Reading:**\n",
    "http://nbviewer.jupyter.org/github/ipython/ipython/blob/3.x/examples/Notebook/Index.ipynb"
   ]
  },
  {
   "cell_type": "markdown",
   "metadata": {},
   "source": [
    "## 2. Test the Cherry Py Server From the Command Line\n",
    "\n",
    "1. Open a command window in the scouting system project folder.\n",
    "\n",
    "2. Enter `cd Server` to go to the server subdirectory.\n",
    "\n",
    "2. Run the following in the command prompt:\n",
    "  ```\n",
    "  python scoutingapi.py\n",
    "  ```\n",
    "  \n",
    "3. Go to the URL `localhost:8080`. You should see a page that looks like this:\n",
    "\n",
    "  ![Scouting System Interface](images\\ISD06\\cherrypy_director.png)\n"
   ]
  },
  {
   "cell_type": "markdown",
   "metadata": {},
   "source": [
    "## Version Info\n",
    "* **Last Revised:** 27 Dec 2017\n",
    "* **Revised by:** Stacy I.\n",
    "\n",
    "[Back to Overview](index.html)"
   ]
  }
 ],
 "metadata": {
  "kernelspec": {
   "display_name": "Python 3",
   "language": "python",
   "name": "python3"
  },
  "language_info": {
   "codemirror_mode": {
    "name": "ipython",
    "version": 3
   },
   "file_extension": ".py",
   "mimetype": "text/x-python",
   "name": "python",
   "nbconvert_exporter": "python",
   "pygments_lexer": "ipython3",
   "version": "3.6.3"
  }
 },
 "nbformat": 4,
 "nbformat_minor": 2
}
